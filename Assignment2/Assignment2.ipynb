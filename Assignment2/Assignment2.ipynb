{
 "cells": [
  {
   "cell_type": "markdown",
   "metadata": {
    "collapsed": true,
    "deletable": true,
    "editable": true
   },
   "source": [
    "# Visualizing a CNN with CIFAR10\n",
    "\n",
    "Below is the code organizied in a Jupyter notebook for training a Lenet5-like model on the dataset."
   ]
  },
  {
   "cell_type": "code",
   "execution_count": 1,
   "metadata": {
    "collapsed": true
   },
   "outputs": [],
   "source": [
    "import os\n",
    "import math\n",
    "from scipy import misc\n",
    "import numpy as np\n",
    "import tensorflow as tf\n",
    "import random\n",
    "import matplotlib.pyplot as plt\n",
    "import matplotlib as mp\n",
    "\n",
    "try:\n",
    "    from tqdm import tqdm\n",
    "except ImportError:\n",
    "    def tqdm(x): return x\n",
    "    print(\"Install tqdm for cool progress bars\")\n",
    "\n",
    "cwd = os.getcwd()"
   ]
  },
  {
   "cell_type": "code",
   "execution_count": 2,
   "metadata": {
    "collapsed": true
   },
   "outputs": [],
   "source": [
    "# --------------------------------------------------\n",
    "# net setup\n",
    "\n",
    "\n",
    "def weight_variable(shape):\n",
    "    '''\n",
    "    Initialize weights\n",
    "    :param shape: shape of weights, e.g. [w, h ,Cin, Cout] where\n",
    "    w: width of the filters\n",
    "    h: height of the filters\n",
    "    Cin: the number of the channels of the filters\n",
    "    Cout: the number of filters\n",
    "    :return: a tensor variable for weights with initial values\n",
    "    '''\n",
    "\n",
    "    # IMPLEMENT YOUR WEIGHT_VARIABLE HERE\n",
    "    W = tf.Variable(tf.truncated_normal(shape, stddev=0.1))\n",
    "    return W\n",
    "\n",
    "\n",
    "def bias_variable(shape):\n",
    "    '''\n",
    "    Initialize biases\n",
    "    :param shape: shape of biases, e.g. [Cout] where\n",
    "    Cout: the number of filters\n",
    "    :return: a tensor variable for biases with initial values\n",
    "    '''\n",
    "\n",
    "    # IMPLEMENT YOUR BIAS_VARIABLE HERE\n",
    "    b = tf.Variable(tf.constant(0.0, shape=shape))\n",
    "    return b\n",
    "\n",
    "\n",
    "def conv2d(x, W):\n",
    "    '''\n",
    "    Perform 2-D convolution\n",
    "    :param x: input tensor of size [N, W, H, Cin] where\n",
    "    N: the number of images\n",
    "    W: width of images\n",
    "    H: height of images\n",
    "    Cin: the number of channels of images\n",
    "    :param W: weight tensor [w, h, Cin, Cout]\n",
    "    w: width of the filters\n",
    "    h: height of the filters\n",
    "    Cin: the number of the channels of the filters = the number of channels of images\n",
    "    Cout: the number of filters\n",
    "    :return: a tensor of features extracted by the filters, a.k.a. the results after convolution\n",
    "    '''\n",
    "\n",
    "    # IMPLEMENT YOUR CONV2D HERE\n",
    "    h_conv = tf.nn.conv2d(x, W, strides=[1, 1, 1, 1], padding='SAME')\n",
    "    return h_conv\n",
    "\n",
    "\n",
    "def max_pool_2x2(x):\n",
    "    '''\n",
    "    Perform non-overlapping 2-D maxpooling on 2x2 regions in the input data\n",
    "    :param x: input data\n",
    "    :return: the results of maxpooling (max-marginalized + downsampling)\n",
    "    '''\n",
    "\n",
    "    # IMPLEMENT YOUR MAX_POOL_2X2 HERE\n",
    "    h_max = tf.nn.max_pool(x, ksize=[1, 2, 2, 1], strides=[1, 2, 2, 1],\n",
    "                           padding='SAME')\n",
    "    return h_max\n"
   ]
  },
  {
   "cell_type": "code",
   "execution_count": 3,
   "metadata": {
    "collapsed": true
   },
   "outputs": [],
   "source": [
    "# Some logging stuff\n",
    "\n",
    "def variable_summary(name, tensor):\n",
    "    with tf.name_scope(name + \"-summary\"):\n",
    "        # Summarize the basic scalar stats\n",
    "        mean, variance = tf.nn.moments(\n",
    "            tensor, axes=list(range(tf.rank(tensor).eval())))\n",
    "        tf.summary.scalar('mean', mean)\n",
    "        tf.summary.scalar('std', tf.sqrt(variance))\n",
    "        tf.summary.scalar('max', tf.reduce_max(tensor))\n",
    "        tf.summary.scalar('min', tf.reduce_min(tensor))\n",
    "        # Create a histogram of the tensor\n",
    "        tf.summary.histogram('histogram', tensor)\n",
    "\n",
    "\n",
    "def plot_filter(filters, name):\n",
    "    n_filters = filters.shape[3]\n",
    "    plt.figure(1, figsize=(20, 20))\n",
    "    n_columns = 6\n",
    "    n_rows = math.ceil(n_filters / n_columns) + 1\n",
    "    plt.title(name)\n",
    "    for i in range(n_filters):\n",
    "        plt.subplot(n_rows, n_columns, i + 1)\n",
    "        plt.title('Filter ' + str(i))\n",
    "        plt.imshow(filters[0, :, :, i], cmap=\"gray\")\n",
    "    plt.show()\n",
    "\n",
    "\n",
    "def get_filters(layer, inp_image, name):\n",
    "    filters = sess.run(layer, feed_dict={\n",
    "        x: inp_image[np.newaxis, ...], keep_prob: 1.0, conv_keep_prob: 1.0})\n",
    "    plot_filter(filters, name)\n",
    "    \n",
    "class MaxCheckpointer(object):\n",
    "\n",
    "    def __init__(self, save_to, sess):\n",
    "        self.cur_max = -float('inf')\n",
    "        # Create a saver for writing training checkpoints.\n",
    "        self.saver = tf.train.Saver()\n",
    "        self.save_to = save_to\n",
    "\n",
    "    def __call__(self, new_val):\n",
    "        if new_val >= self.cur_max:\n",
    "            print(\"Got new best:\", new_val, \"- saving model.\")\n",
    "            self.saver.save(sess, os.path.join(cwd, self.save_to))\n",
    "            self.cur_max = new_val"
   ]
  },
  {
   "cell_type": "code",
   "execution_count": 4,
   "metadata": {
    "collapsed": true
   },
   "outputs": [],
   "source": [
    "# Data loading and some globals\n",
    "\n",
    "ntrain = 1000  # per class\n",
    "ntest = 100  # per class\n",
    "nclass = 10  # number of classes\n",
    "imsize = 28\n",
    "nchannels = 1\n",
    "batchsize = 128\n",
    "nepochs = 50\n",
    "\n",
    "Train = np.zeros((ntrain * nclass, imsize, imsize, nchannels))\n",
    "Test = np.zeros((ntest * nclass, imsize, imsize, nchannels))\n",
    "LTrain = np.zeros((ntrain * nclass, nclass))\n",
    "LTest = np.zeros((ntest * nclass, nclass))\n",
    "\n",
    "itrain = -1\n",
    "itest = -1\n",
    "for iclass in range(0, nclass):\n",
    "    for isample in range(0, ntrain):\n",
    "        path = os.path.join(\n",
    "            cwd, 'CIFAR10/Train/%d/Image%05d.png' % (iclass, isample))\n",
    "        im = misc.imread(path)  # 28 by 28\n",
    "        im = im.astype(float) / 255\n",
    "        itrain += 1\n",
    "        Train[itrain, :, :, 0] = im\n",
    "        LTrain[itrain, iclass] = 1  # 1-hot lable\n",
    "    for isample in range(0, ntest):\n",
    "        path = os.path.join(\n",
    "            cwd, 'CIFAR10/Test/%d/Image%05d.png' % (iclass, isample))\n",
    "        im = misc.imread(path)  # 28 by 28\n",
    "        im = im.astype(float) / 255\n",
    "        itest += 1\n",
    "        Test[itest, :, :, 0] = im\n",
    "        LTest[itest, iclass] = 1  # 1-hot lable\n",
    "\n",
    "sess = tf.InteractiveSession()\n",
    "\n",
    "# tf variable for the data, remember shape is [None, width, height, numberOfChannels]\n",
    "tf_data = tf.placeholder(tf.float32, shape=[None, imsize, imsize, nchannels])\n",
    "# tf variable for labels\n",
    "tf_labels = tf.placeholder(tf.float32, shape=[None, nclass])"
   ]
  },
  {
   "cell_type": "code",
   "execution_count": 5,
   "metadata": {
    "collapsed": true
   },
   "outputs": [],
   "source": [
    "# --------------------------------------------------\n",
    "# model\n",
    "# create your model\n",
    "# First convolutional layer\n",
    "conv_keep_prob = tf.placeholder(tf.float32)\n",
    "\n",
    "x = tf_data\n",
    "# x = tf.nn.dropout(x, conv_keep_prob)\n",
    "\n",
    "W_conv1 = weight_variable([5, 5, 1, 32])\n",
    "b_conv1 = bias_variable([32])\n",
    "h_conv1 = tf.nn.relu(conv2d(x, W_conv1) + b_conv1)\n",
    "h_pool1 = max_pool_2x2(h_conv1)\n",
    "\n",
    "# Variable summaries\n",
    "variable_summary(\"W_conv1\", W_conv1)\n",
    "variable_summary(\"b_conv1\", b_conv1)\n",
    "variable_summary(\"h_conv1\", h_conv1)\n",
    "variable_summary(\"h_pool1\", h_pool1)\n",
    "\n",
    "h_pool1_drop = tf.nn.dropout(h_pool1, conv_keep_prob)\n",
    "\n",
    "# Second convolutional layer\n",
    "W_conv2 = weight_variable([5, 5, 32, 64])\n",
    "b_conv2 = bias_variable([64])\n",
    "h_conv2 = tf.nn.relu(conv2d(h_pool1_drop, W_conv2) + b_conv2)\n",
    "h_pool2 = max_pool_2x2(h_conv2)\n",
    "\n",
    "# Variable summaries\n",
    "variable_summary(\"W_conv2\", W_conv2)\n",
    "variable_summary(\"b_conv2\", b_conv2)\n",
    "variable_summary(\"h_conv2\", h_conv2)\n",
    "variable_summary(\"h_pool2\", h_pool2)\n",
    "\n",
    "h_pool2_drop = tf.nn.dropout(h_pool2, conv_keep_prob)\n",
    "\n",
    "# W_conv3 = weight_variable([5, 5, 64, 128])\n",
    "# b_conv3 = bias_variable([128])\n",
    "# h_conv3 = tf.nn.relu(conv2d(h_pool2_drop, W_conv3) + b_conv3)\n",
    "# h_pool3 = max_pool_2x2(h_conv3)\n",
    "\n",
    "conv_out = h_pool2_drop\n",
    "\n",
    "# Densely connected layer\n",
    "conv_out_shape = conv_out.get_shape().as_list()\n",
    "flat_shape = conv_out_shape[1] * conv_out_shape[2] * conv_out_shape[3]\n",
    "flat_conv = tf.reshape(\n",
    "    conv_out, [-1, flat_shape])\n",
    "\n",
    "# dropout\n",
    "keep_prob = tf.placeholder(tf.float32)\n",
    "flat_conv_drop = tf.nn.dropout(flat_conv, keep_prob)\n",
    "\n",
    "# softmax\n",
    "W_fc2 = weight_variable([flat_shape, 10])\n",
    "b_fc2 = bias_variable([10])\n",
    "y_conv = tf.matmul(flat_conv_drop, W_fc2) + b_fc2\n",
    "\n",
    "# Variable summaries\n",
    "variable_summary(\"W_fc2\", W_fc2)\n",
    "variable_summary(\"b_fc2\", b_fc2)\n",
    "variable_summary(\"y_conv\", y_conv)"
   ]
  },
  {
   "cell_type": "markdown",
   "metadata": {},
   "source": [
    "## Hyperparameter Search\n",
    "\n",
    "To find a good model, I searched through the following options:\n",
    "- learning rate: 1e-2, 1e-3, 1e-4\n",
    "- with and without fully connected layer before softmax layer\n",
    "- with and without dropout on the convolutional layers\n",
    "- 3x3 convolutions vs 5x5 convolutions\n",
    "- an extra convolutional layer\n",
    "- adding global average pooling at the end of conv layers\n",
    "\n",
    "After searching through all these options, I achieved the best model I was able to achieve within 50 epochs is the one above"
   ]
  },
  {
   "cell_type": "code",
   "execution_count": 6,
   "metadata": {
    "collapsed": false
   },
   "outputs": [
    {
     "data": {
      "text/plain": [
       "<tf.Tensor 'Accuracy:0' shape=() dtype=string>"
      ]
     },
     "execution_count": 6,
     "metadata": {},
     "output_type": "execute_result"
    }
   ],
   "source": [
    "# --------------------------------------------------\n",
    "# loss\n",
    "# set up the loss, optimization, evaluation, and accuracy\n",
    "# setup training\n",
    "cross_entropy = tf.reduce_mean(\n",
    "    tf.nn.softmax_cross_entropy_with_logits(labels=tf_labels, logits=y_conv))\n",
    "opt = tf.train.AdamOptimizer(1e-3)\n",
    "optimizer = opt.minimize(cross_entropy)\n",
    "correct_prediction = tf.equal(tf.argmax(y_conv, 1), tf.argmax(tf_labels, 1))\n",
    "accuracy = tf.reduce_mean(tf.cast(correct_prediction, tf.float32))\n",
    "\n",
    "tf.summary.scalar(\"Loss\", cross_entropy)\n",
    "tf.summary.scalar(\"Accuracy\", accuracy)"
   ]
  },
  {
   "cell_type": "code",
   "execution_count": 7,
   "metadata": {
    "collapsed": false
   },
   "outputs": [
    {
     "name": "stderr",
     "output_type": "stream",
     "text": [
      "\r",
      "  0%|          | 0/79 [00:00<?, ?it/s]"
     ]
    },
    {
     "name": "stdout",
     "output_type": "stream",
     "text": [
      "Epoch 1/50\n"
     ]
    },
    {
     "name": "stderr",
     "output_type": "stream",
     "text": [
      "100%|██████████| 79/79 [00:12<00:00,  6.20it/s]\n"
     ]
    },
    {
     "name": "stdout",
     "output_type": "stream",
     "text": [
      "Train Accuracy: 0.1219\n"
     ]
    },
    {
     "name": "stderr",
     "output_type": "stream",
     "text": [
      "  1%|▏         | 1/79 [00:00<00:11,  6.65it/s]"
     ]
    },
    {
     "name": "stdout",
     "output_type": "stream",
     "text": [
      "Test accuracy 0.16\n",
      "Got new best: 0.16 - saving model.\n",
      "Epoch 2/50\n"
     ]
    },
    {
     "name": "stderr",
     "output_type": "stream",
     "text": [
      "100%|██████████| 79/79 [00:11<00:00,  6.74it/s]\n"
     ]
    },
    {
     "name": "stdout",
     "output_type": "stream",
     "text": [
      "Train Accuracy: 0.1853\n"
     ]
    },
    {
     "name": "stderr",
     "output_type": "stream",
     "text": [
      "  1%|▏         | 1/79 [00:00<00:11,  6.73it/s]"
     ]
    },
    {
     "name": "stdout",
     "output_type": "stream",
     "text": [
      "Test accuracy 0.21\n",
      "Got new best: 0.21 - saving model.\n",
      "Epoch 3/50\n"
     ]
    },
    {
     "name": "stderr",
     "output_type": "stream",
     "text": [
      "100%|██████████| 79/79 [00:11<00:00,  6.76it/s]\n"
     ]
    },
    {
     "name": "stdout",
     "output_type": "stream",
     "text": [
      "Train Accuracy: 0.2709\n"
     ]
    },
    {
     "name": "stderr",
     "output_type": "stream",
     "text": [
      "  1%|▏         | 1/79 [00:00<00:11,  6.83it/s]"
     ]
    },
    {
     "name": "stdout",
     "output_type": "stream",
     "text": [
      "Test accuracy 0.294\n",
      "Got new best: 0.294 - saving model.\n",
      "Epoch 4/50\n"
     ]
    },
    {
     "name": "stderr",
     "output_type": "stream",
     "text": [
      "100%|██████████| 79/79 [00:12<00:00,  6.49it/s]\n"
     ]
    },
    {
     "name": "stdout",
     "output_type": "stream",
     "text": [
      "Train Accuracy: 0.3307\n"
     ]
    },
    {
     "name": "stderr",
     "output_type": "stream",
     "text": [
      "  1%|▏         | 1/79 [00:00<00:12,  6.29it/s]"
     ]
    },
    {
     "name": "stdout",
     "output_type": "stream",
     "text": [
      "Test accuracy 0.324\n",
      "Got new best: 0.324 - saving model.\n",
      "Epoch 5/50\n"
     ]
    },
    {
     "name": "stderr",
     "output_type": "stream",
     "text": [
      "100%|██████████| 79/79 [00:12<00:00,  6.55it/s]\n"
     ]
    },
    {
     "name": "stdout",
     "output_type": "stream",
     "text": [
      "Train Accuracy: 0.3743\n"
     ]
    },
    {
     "name": "stderr",
     "output_type": "stream",
     "text": [
      "  1%|▏         | 1/79 [00:00<00:11,  6.91it/s]"
     ]
    },
    {
     "name": "stdout",
     "output_type": "stream",
     "text": [
      "Test accuracy 0.383\n",
      "Got new best: 0.383 - saving model.\n",
      "Epoch 6/50\n"
     ]
    },
    {
     "name": "stderr",
     "output_type": "stream",
     "text": [
      "100%|██████████| 79/79 [00:11<00:00,  6.81it/s]\n"
     ]
    },
    {
     "name": "stdout",
     "output_type": "stream",
     "text": [
      "Train Accuracy: 0.4036\n"
     ]
    },
    {
     "name": "stderr",
     "output_type": "stream",
     "text": [
      "  1%|▏         | 1/79 [00:00<00:12,  6.30it/s]"
     ]
    },
    {
     "name": "stdout",
     "output_type": "stream",
     "text": [
      "Test accuracy 0.404\n",
      "Got new best: 0.404 - saving model.\n",
      "Epoch 7/50\n"
     ]
    },
    {
     "name": "stderr",
     "output_type": "stream",
     "text": [
      "100%|██████████| 79/79 [00:11<00:00,  6.90it/s]\n"
     ]
    },
    {
     "name": "stdout",
     "output_type": "stream",
     "text": [
      "Train Accuracy: 0.4268\n"
     ]
    },
    {
     "name": "stderr",
     "output_type": "stream",
     "text": [
      "  1%|▏         | 1/79 [00:00<00:12,  6.44it/s]"
     ]
    },
    {
     "name": "stdout",
     "output_type": "stream",
     "text": [
      "Test accuracy 0.439\n",
      "Got new best: 0.439 - saving model.\n",
      "Epoch 8/50\n"
     ]
    },
    {
     "name": "stderr",
     "output_type": "stream",
     "text": [
      "100%|██████████| 79/79 [00:11<00:00,  6.89it/s]\n"
     ]
    },
    {
     "name": "stdout",
     "output_type": "stream",
     "text": [
      "Train Accuracy: 0.4444\n"
     ]
    },
    {
     "name": "stderr",
     "output_type": "stream",
     "text": [
      "  1%|▏         | 1/79 [00:00<00:11,  6.77it/s]"
     ]
    },
    {
     "name": "stdout",
     "output_type": "stream",
     "text": [
      "Test accuracy 0.433\n",
      "Epoch 9/50\n"
     ]
    },
    {
     "name": "stderr",
     "output_type": "stream",
     "text": [
      "100%|██████████| 79/79 [00:11<00:00,  6.87it/s]\n"
     ]
    },
    {
     "name": "stdout",
     "output_type": "stream",
     "text": [
      "Train Accuracy: 0.4626\n"
     ]
    },
    {
     "name": "stderr",
     "output_type": "stream",
     "text": [
      "  1%|▏         | 1/79 [00:00<00:11,  7.05it/s]"
     ]
    },
    {
     "name": "stdout",
     "output_type": "stream",
     "text": [
      "Test accuracy 0.439\n",
      "Got new best: 0.439 - saving model.\n",
      "Epoch 10/50\n"
     ]
    },
    {
     "name": "stderr",
     "output_type": "stream",
     "text": [
      "100%|██████████| 79/79 [00:11<00:00,  7.02it/s]\n"
     ]
    },
    {
     "name": "stdout",
     "output_type": "stream",
     "text": [
      "Train Accuracy: 0.478\n"
     ]
    },
    {
     "name": "stderr",
     "output_type": "stream",
     "text": [
      "  1%|▏         | 1/79 [00:00<00:12,  6.40it/s]"
     ]
    },
    {
     "name": "stdout",
     "output_type": "stream",
     "text": [
      "Test accuracy 0.469\n",
      "Got new best: 0.469 - saving model.\n",
      "Epoch 11/50\n"
     ]
    },
    {
     "name": "stderr",
     "output_type": "stream",
     "text": [
      "100%|██████████| 79/79 [00:11<00:00,  6.93it/s]\n"
     ]
    },
    {
     "name": "stdout",
     "output_type": "stream",
     "text": [
      "Train Accuracy: 0.4914\n"
     ]
    },
    {
     "name": "stderr",
     "output_type": "stream",
     "text": [
      "  1%|▏         | 1/79 [00:00<00:10,  7.22it/s]"
     ]
    },
    {
     "name": "stdout",
     "output_type": "stream",
     "text": [
      "Test accuracy 0.455\n",
      "Epoch 12/50\n"
     ]
    },
    {
     "name": "stderr",
     "output_type": "stream",
     "text": [
      "100%|██████████| 79/79 [00:11<00:00,  6.99it/s]\n"
     ]
    },
    {
     "name": "stdout",
     "output_type": "stream",
     "text": [
      "Train Accuracy: 0.5056\n"
     ]
    },
    {
     "name": "stderr",
     "output_type": "stream",
     "text": [
      "  1%|▏         | 1/79 [00:00<00:10,  7.19it/s]"
     ]
    },
    {
     "name": "stdout",
     "output_type": "stream",
     "text": [
      "Test accuracy 0.474\n",
      "Got new best: 0.474 - saving model.\n",
      "Epoch 13/50\n"
     ]
    },
    {
     "name": "stderr",
     "output_type": "stream",
     "text": [
      "100%|██████████| 79/79 [00:11<00:00,  7.00it/s]\n"
     ]
    },
    {
     "name": "stdout",
     "output_type": "stream",
     "text": [
      "Train Accuracy: 0.5132\n"
     ]
    },
    {
     "name": "stderr",
     "output_type": "stream",
     "text": [
      "  1%|▏         | 1/79 [00:00<00:11,  6.58it/s]"
     ]
    },
    {
     "name": "stdout",
     "output_type": "stream",
     "text": [
      "Test accuracy 0.489\n",
      "Got new best: 0.489 - saving model.\n",
      "Epoch 14/50\n"
     ]
    },
    {
     "name": "stderr",
     "output_type": "stream",
     "text": [
      "100%|██████████| 79/79 [00:11<00:00,  7.05it/s]\n"
     ]
    },
    {
     "name": "stdout",
     "output_type": "stream",
     "text": [
      "Train Accuracy: 0.5261\n"
     ]
    },
    {
     "name": "stderr",
     "output_type": "stream",
     "text": [
      "  1%|▏         | 1/79 [00:00<00:12,  6.12it/s]"
     ]
    },
    {
     "name": "stdout",
     "output_type": "stream",
     "text": [
      "Test accuracy 0.475\n",
      "Epoch 15/50\n"
     ]
    },
    {
     "name": "stderr",
     "output_type": "stream",
     "text": [
      "100%|██████████| 79/79 [00:12<00:00,  6.08it/s]\n"
     ]
    },
    {
     "name": "stdout",
     "output_type": "stream",
     "text": [
      "Train Accuracy: 0.535\n"
     ]
    },
    {
     "name": "stderr",
     "output_type": "stream",
     "text": [
      "\r",
      "  0%|          | 0/79 [00:00<?, ?it/s]"
     ]
    },
    {
     "name": "stdout",
     "output_type": "stream",
     "text": [
      "Test accuracy 0.493\n",
      "Got new best: 0.493 - saving model.\n",
      "Epoch 16/50\n"
     ]
    },
    {
     "name": "stderr",
     "output_type": "stream",
     "text": [
      "100%|██████████| 79/79 [00:14<00:00,  5.47it/s]\n"
     ]
    },
    {
     "name": "stdout",
     "output_type": "stream",
     "text": [
      "Train Accuracy: 0.5394\n"
     ]
    },
    {
     "name": "stderr",
     "output_type": "stream",
     "text": [
      "  1%|▏         | 1/79 [00:00<00:10,  7.15it/s]"
     ]
    },
    {
     "name": "stdout",
     "output_type": "stream",
     "text": [
      "Test accuracy 0.517\n",
      "Got new best: 0.517 - saving model.\n",
      "Epoch 17/50\n"
     ]
    },
    {
     "name": "stderr",
     "output_type": "stream",
     "text": [
      "100%|██████████| 79/79 [00:11<00:00,  7.15it/s]\n"
     ]
    },
    {
     "name": "stdout",
     "output_type": "stream",
     "text": [
      "Train Accuracy: 0.5556\n"
     ]
    },
    {
     "name": "stderr",
     "output_type": "stream",
     "text": [
      "  1%|▏         | 1/79 [00:00<00:10,  7.31it/s]"
     ]
    },
    {
     "name": "stdout",
     "output_type": "stream",
     "text": [
      "Test accuracy 0.513\n",
      "Epoch 18/50\n"
     ]
    },
    {
     "name": "stderr",
     "output_type": "stream",
     "text": [
      "100%|██████████| 79/79 [00:11<00:00,  7.14it/s]\n"
     ]
    },
    {
     "name": "stdout",
     "output_type": "stream",
     "text": [
      "Train Accuracy: 0.5599\n"
     ]
    },
    {
     "name": "stderr",
     "output_type": "stream",
     "text": [
      "  1%|▏         | 1/79 [00:00<00:11,  7.08it/s]"
     ]
    },
    {
     "name": "stdout",
     "output_type": "stream",
     "text": [
      "Test accuracy 0.505\n",
      "Epoch 19/50\n"
     ]
    },
    {
     "name": "stderr",
     "output_type": "stream",
     "text": [
      "100%|██████████| 79/79 [00:11<00:00,  7.15it/s]\n"
     ]
    },
    {
     "name": "stdout",
     "output_type": "stream",
     "text": [
      "Train Accuracy: 0.5711\n"
     ]
    },
    {
     "name": "stderr",
     "output_type": "stream",
     "text": [
      "  1%|▏         | 1/79 [00:00<00:11,  7.07it/s]"
     ]
    },
    {
     "name": "stdout",
     "output_type": "stream",
     "text": [
      "Test accuracy 0.506\n",
      "Epoch 20/50\n"
     ]
    },
    {
     "name": "stderr",
     "output_type": "stream",
     "text": [
      "100%|██████████| 79/79 [00:10<00:00,  7.20it/s]\n"
     ]
    },
    {
     "name": "stdout",
     "output_type": "stream",
     "text": [
      "Train Accuracy: 0.5774\n"
     ]
    },
    {
     "name": "stderr",
     "output_type": "stream",
     "text": [
      "\r",
      "  0%|          | 0/79 [00:00<?, ?it/s]"
     ]
    },
    {
     "name": "stdout",
     "output_type": "stream",
     "text": [
      "Test accuracy 0.526\n",
      "Got new best: 0.526 - saving model.\n",
      "Epoch 21/50\n"
     ]
    },
    {
     "name": "stderr",
     "output_type": "stream",
     "text": [
      "100%|██████████| 79/79 [00:12<00:00,  6.25it/s]\n"
     ]
    },
    {
     "name": "stdout",
     "output_type": "stream",
     "text": [
      "Train Accuracy: 0.5855\n"
     ]
    },
    {
     "name": "stderr",
     "output_type": "stream",
     "text": [
      "  1%|▏         | 1/79 [00:00<00:10,  7.26it/s]"
     ]
    },
    {
     "name": "stdout",
     "output_type": "stream",
     "text": [
      "Test accuracy 0.511\n",
      "Epoch 22/50\n"
     ]
    },
    {
     "name": "stderr",
     "output_type": "stream",
     "text": [
      "100%|██████████| 79/79 [00:11<00:00,  7.12it/s]\n"
     ]
    },
    {
     "name": "stdout",
     "output_type": "stream",
     "text": [
      "Train Accuracy: 0.5972\n"
     ]
    },
    {
     "name": "stderr",
     "output_type": "stream",
     "text": [
      "  1%|▏         | 1/79 [00:00<00:10,  7.12it/s]"
     ]
    },
    {
     "name": "stdout",
     "output_type": "stream",
     "text": [
      "Test accuracy 0.533\n",
      "Got new best: 0.533 - saving model.\n",
      "Epoch 23/50\n"
     ]
    },
    {
     "name": "stderr",
     "output_type": "stream",
     "text": [
      "100%|██████████| 79/79 [00:11<00:00,  6.83it/s]\n"
     ]
    },
    {
     "name": "stdout",
     "output_type": "stream",
     "text": [
      "Train Accuracy: 0.603\n"
     ]
    },
    {
     "name": "stderr",
     "output_type": "stream",
     "text": [
      "  1%|▏         | 1/79 [00:00<00:11,  6.64it/s]"
     ]
    },
    {
     "name": "stdout",
     "output_type": "stream",
     "text": [
      "Test accuracy 0.537\n",
      "Got new best: 0.537 - saving model.\n",
      "Epoch 24/50\n"
     ]
    },
    {
     "name": "stderr",
     "output_type": "stream",
     "text": [
      "100%|██████████| 79/79 [00:11<00:00,  7.03it/s]\n"
     ]
    },
    {
     "name": "stdout",
     "output_type": "stream",
     "text": [
      "Train Accuracy: 0.6173\n"
     ]
    },
    {
     "name": "stderr",
     "output_type": "stream",
     "text": [
      "  1%|▏         | 1/79 [00:00<00:11,  7.05it/s]"
     ]
    },
    {
     "name": "stdout",
     "output_type": "stream",
     "text": [
      "Test accuracy 0.539\n",
      "Got new best: 0.539 - saving model.\n",
      "Epoch 25/50\n"
     ]
    },
    {
     "name": "stderr",
     "output_type": "stream",
     "text": [
      "100%|██████████| 79/79 [00:11<00:00,  7.04it/s]\n"
     ]
    },
    {
     "name": "stdout",
     "output_type": "stream",
     "text": [
      "Train Accuracy: 0.6174\n"
     ]
    },
    {
     "name": "stderr",
     "output_type": "stream",
     "text": [
      "  1%|▏         | 1/79 [00:00<00:11,  6.94it/s]"
     ]
    },
    {
     "name": "stdout",
     "output_type": "stream",
     "text": [
      "Test accuracy 0.546\n",
      "Got new best: 0.546 - saving model.\n",
      "Epoch 26/50\n"
     ]
    },
    {
     "name": "stderr",
     "output_type": "stream",
     "text": [
      "100%|██████████| 79/79 [00:11<00:00,  7.02it/s]\n"
     ]
    },
    {
     "name": "stdout",
     "output_type": "stream",
     "text": [
      "Train Accuracy: 0.6275\n"
     ]
    },
    {
     "name": "stderr",
     "output_type": "stream",
     "text": [
      "  1%|▏         | 1/79 [00:00<00:11,  6.65it/s]"
     ]
    },
    {
     "name": "stdout",
     "output_type": "stream",
     "text": [
      "Test accuracy 0.54\n",
      "Epoch 27/50\n"
     ]
    },
    {
     "name": "stderr",
     "output_type": "stream",
     "text": [
      "100%|██████████| 79/79 [00:11<00:00,  7.02it/s]\n"
     ]
    },
    {
     "name": "stdout",
     "output_type": "stream",
     "text": [
      "Train Accuracy: 0.634\n"
     ]
    },
    {
     "name": "stderr",
     "output_type": "stream",
     "text": [
      "\r",
      "  0%|          | 0/79 [00:00<?, ?it/s]"
     ]
    },
    {
     "name": "stdout",
     "output_type": "stream",
     "text": [
      "Test accuracy 0.557\n",
      "Got new best: 0.557 - saving model.\n",
      "Epoch 28/50\n"
     ]
    },
    {
     "name": "stderr",
     "output_type": "stream",
     "text": [
      "100%|██████████| 79/79 [00:12<00:00,  6.16it/s]\n"
     ]
    },
    {
     "name": "stdout",
     "output_type": "stream",
     "text": [
      "Train Accuracy: 0.6456\n"
     ]
    },
    {
     "name": "stderr",
     "output_type": "stream",
     "text": [
      "  1%|▏         | 1/79 [00:00<00:12,  6.23it/s]"
     ]
    },
    {
     "name": "stdout",
     "output_type": "stream",
     "text": [
      "Test accuracy 0.551\n",
      "Epoch 29/50\n"
     ]
    },
    {
     "name": "stderr",
     "output_type": "stream",
     "text": [
      "100%|██████████| 79/79 [00:12<00:00,  6.38it/s]\n"
     ]
    },
    {
     "name": "stdout",
     "output_type": "stream",
     "text": [
      "Train Accuracy: 0.6499\n"
     ]
    },
    {
     "name": "stderr",
     "output_type": "stream",
     "text": [
      "  1%|▏         | 1/79 [00:00<00:13,  5.70it/s]"
     ]
    },
    {
     "name": "stdout",
     "output_type": "stream",
     "text": [
      "Test accuracy 0.548\n",
      "Epoch 30/50\n"
     ]
    },
    {
     "name": "stderr",
     "output_type": "stream",
     "text": [
      "100%|██████████| 79/79 [00:11<00:00,  6.77it/s]\n"
     ]
    },
    {
     "name": "stdout",
     "output_type": "stream",
     "text": [
      "Train Accuracy: 0.6536\n"
     ]
    },
    {
     "name": "stderr",
     "output_type": "stream",
     "text": [
      "  1%|▏         | 1/79 [00:00<00:11,  6.98it/s]"
     ]
    },
    {
     "name": "stdout",
     "output_type": "stream",
     "text": [
      "Test accuracy 0.565\n",
      "Got new best: 0.565 - saving model.\n",
      "Epoch 31/50\n"
     ]
    },
    {
     "name": "stderr",
     "output_type": "stream",
     "text": [
      "100%|██████████| 79/79 [00:11<00:00,  6.96it/s]\n"
     ]
    },
    {
     "name": "stdout",
     "output_type": "stream",
     "text": [
      "Train Accuracy: 0.6635\n"
     ]
    },
    {
     "name": "stderr",
     "output_type": "stream",
     "text": [
      "  1%|▏         | 1/79 [00:00<00:12,  6.33it/s]"
     ]
    },
    {
     "name": "stdout",
     "output_type": "stream",
     "text": [
      "Test accuracy 0.574\n",
      "Got new best: 0.574 - saving model.\n",
      "Epoch 32/50\n"
     ]
    },
    {
     "name": "stderr",
     "output_type": "stream",
     "text": [
      "100%|██████████| 79/79 [00:12<00:00,  6.48it/s]\n"
     ]
    },
    {
     "name": "stdout",
     "output_type": "stream",
     "text": [
      "Train Accuracy: 0.6657\n"
     ]
    },
    {
     "name": "stderr",
     "output_type": "stream",
     "text": [
      "  1%|▏         | 1/79 [00:00<00:11,  6.60it/s]"
     ]
    },
    {
     "name": "stdout",
     "output_type": "stream",
     "text": [
      "Test accuracy 0.572\n",
      "Epoch 33/50\n"
     ]
    },
    {
     "name": "stderr",
     "output_type": "stream",
     "text": [
      "100%|██████████| 79/79 [00:11<00:00,  6.71it/s]\n"
     ]
    },
    {
     "name": "stdout",
     "output_type": "stream",
     "text": [
      "Train Accuracy: 0.6693\n"
     ]
    },
    {
     "name": "stderr",
     "output_type": "stream",
     "text": [
      "  1%|▏         | 1/79 [00:00<00:11,  6.62it/s]"
     ]
    },
    {
     "name": "stdout",
     "output_type": "stream",
     "text": [
      "Test accuracy 0.563\n",
      "Epoch 34/50\n"
     ]
    },
    {
     "name": "stderr",
     "output_type": "stream",
     "text": [
      "100%|██████████| 79/79 [00:12<00:00,  6.48it/s]\n"
     ]
    },
    {
     "name": "stdout",
     "output_type": "stream",
     "text": [
      "Train Accuracy: 0.6709\n"
     ]
    },
    {
     "name": "stderr",
     "output_type": "stream",
     "text": [
      "\r",
      "  0%|          | 0/79 [00:00<?, ?it/s]"
     ]
    },
    {
     "name": "stdout",
     "output_type": "stream",
     "text": [
      "Test accuracy 0.58\n",
      "Got new best: 0.58 - saving model.\n",
      "Epoch 35/50\n"
     ]
    },
    {
     "name": "stderr",
     "output_type": "stream",
     "text": [
      "100%|██████████| 79/79 [00:12<00:00,  6.54it/s]\n"
     ]
    },
    {
     "name": "stdout",
     "output_type": "stream",
     "text": [
      "Train Accuracy: 0.6816\n"
     ]
    },
    {
     "name": "stderr",
     "output_type": "stream",
     "text": [
      "  1%|▏         | 1/79 [00:00<00:10,  7.12it/s]"
     ]
    },
    {
     "name": "stdout",
     "output_type": "stream",
     "text": [
      "Test accuracy 0.584\n",
      "Got new best: 0.584 - saving model.\n",
      "Epoch 36/50\n"
     ]
    },
    {
     "name": "stderr",
     "output_type": "stream",
     "text": [
      "100%|██████████| 79/79 [00:11<00:00,  6.85it/s]\n"
     ]
    },
    {
     "name": "stdout",
     "output_type": "stream",
     "text": [
      "Train Accuracy: 0.6828\n"
     ]
    },
    {
     "name": "stderr",
     "output_type": "stream",
     "text": [
      "  1%|▏         | 1/79 [00:00<00:11,  6.62it/s]"
     ]
    },
    {
     "name": "stdout",
     "output_type": "stream",
     "text": [
      "Test accuracy 0.586\n",
      "Got new best: 0.586 - saving model.\n",
      "Epoch 37/50\n"
     ]
    },
    {
     "name": "stderr",
     "output_type": "stream",
     "text": [
      "100%|██████████| 79/79 [00:12<00:00,  6.43it/s]\n"
     ]
    },
    {
     "name": "stdout",
     "output_type": "stream",
     "text": [
      "Train Accuracy: 0.6878\n"
     ]
    },
    {
     "name": "stderr",
     "output_type": "stream",
     "text": [
      "  1%|▏         | 1/79 [00:00<00:11,  6.68it/s]"
     ]
    },
    {
     "name": "stdout",
     "output_type": "stream",
     "text": [
      "Test accuracy 0.583\n",
      "Epoch 38/50\n"
     ]
    },
    {
     "name": "stderr",
     "output_type": "stream",
     "text": [
      "100%|██████████| 79/79 [00:12<00:00,  6.20it/s]\n"
     ]
    },
    {
     "name": "stdout",
     "output_type": "stream",
     "text": [
      "Train Accuracy: 0.7009\n"
     ]
    },
    {
     "name": "stderr",
     "output_type": "stream",
     "text": [
      "  1%|▏         | 1/79 [00:00<00:12,  6.28it/s]"
     ]
    },
    {
     "name": "stdout",
     "output_type": "stream",
     "text": [
      "Test accuracy 0.579\n",
      "Epoch 39/50\n"
     ]
    },
    {
     "name": "stderr",
     "output_type": "stream",
     "text": [
      "100%|██████████| 79/79 [00:11<00:00,  6.59it/s]\n"
     ]
    },
    {
     "name": "stdout",
     "output_type": "stream",
     "text": [
      "Train Accuracy: 0.6992\n"
     ]
    },
    {
     "name": "stderr",
     "output_type": "stream",
     "text": [
      "  1%|▏         | 1/79 [00:00<00:10,  7.11it/s]"
     ]
    },
    {
     "name": "stdout",
     "output_type": "stream",
     "text": [
      "Test accuracy 0.564\n",
      "Epoch 40/50\n"
     ]
    },
    {
     "name": "stderr",
     "output_type": "stream",
     "text": [
      "100%|██████████| 79/79 [00:12<00:00,  6.56it/s]\n"
     ]
    },
    {
     "name": "stdout",
     "output_type": "stream",
     "text": [
      "Train Accuracy: 0.6979\n"
     ]
    },
    {
     "name": "stderr",
     "output_type": "stream",
     "text": [
      "  1%|▏         | 1/79 [00:00<00:11,  7.05it/s]"
     ]
    },
    {
     "name": "stdout",
     "output_type": "stream",
     "text": [
      "Test accuracy 0.584\n",
      "Epoch 41/50\n"
     ]
    },
    {
     "name": "stderr",
     "output_type": "stream",
     "text": [
      "100%|██████████| 79/79 [00:11<00:00,  6.64it/s]\n"
     ]
    },
    {
     "name": "stdout",
     "output_type": "stream",
     "text": [
      "Train Accuracy: 0.7087\n"
     ]
    },
    {
     "name": "stderr",
     "output_type": "stream",
     "text": [
      "\r",
      "  0%|          | 0/79 [00:00<?, ?it/s]"
     ]
    },
    {
     "name": "stdout",
     "output_type": "stream",
     "text": [
      "Test accuracy 0.591\n",
      "Got new best: 0.591 - saving model.\n",
      "Epoch 42/50\n"
     ]
    },
    {
     "name": "stderr",
     "output_type": "stream",
     "text": [
      "100%|██████████| 79/79 [00:12<00:00,  6.55it/s]\n"
     ]
    },
    {
     "name": "stdout",
     "output_type": "stream",
     "text": [
      "Train Accuracy: 0.7122\n"
     ]
    },
    {
     "name": "stderr",
     "output_type": "stream",
     "text": [
      "\r",
      "  0%|          | 0/79 [00:00<?, ?it/s]"
     ]
    },
    {
     "name": "stdout",
     "output_type": "stream",
     "text": [
      "Test accuracy 0.599\n",
      "Got new best: 0.599 - saving model.\n",
      "Epoch 43/50\n"
     ]
    },
    {
     "name": "stderr",
     "output_type": "stream",
     "text": [
      "100%|██████████| 79/79 [00:11<00:00,  6.89it/s]\n"
     ]
    },
    {
     "name": "stdout",
     "output_type": "stream",
     "text": [
      "Train Accuracy: 0.7164\n"
     ]
    },
    {
     "name": "stderr",
     "output_type": "stream",
     "text": [
      "  1%|▏         | 1/79 [00:00<00:10,  7.21it/s]"
     ]
    },
    {
     "name": "stdout",
     "output_type": "stream",
     "text": [
      "Test accuracy 0.585\n",
      "Epoch 44/50\n"
     ]
    },
    {
     "name": "stderr",
     "output_type": "stream",
     "text": [
      "100%|██████████| 79/79 [00:11<00:00,  6.64it/s]\n"
     ]
    },
    {
     "name": "stdout",
     "output_type": "stream",
     "text": [
      "Train Accuracy: 0.7168\n"
     ]
    },
    {
     "name": "stderr",
     "output_type": "stream",
     "text": [
      "  1%|▏         | 1/79 [00:00<00:11,  6.92it/s]"
     ]
    },
    {
     "name": "stdout",
     "output_type": "stream",
     "text": [
      "Test accuracy 0.576\n",
      "Epoch 45/50\n"
     ]
    },
    {
     "name": "stderr",
     "output_type": "stream",
     "text": [
      "100%|██████████| 79/79 [00:11<00:00,  6.85it/s]\n"
     ]
    },
    {
     "name": "stdout",
     "output_type": "stream",
     "text": [
      "Train Accuracy: 0.7237\n"
     ]
    },
    {
     "name": "stderr",
     "output_type": "stream",
     "text": [
      "  1%|▏         | 1/79 [00:00<00:11,  6.62it/s]"
     ]
    },
    {
     "name": "stdout",
     "output_type": "stream",
     "text": [
      "Test accuracy 0.593\n",
      "Epoch 46/50\n"
     ]
    },
    {
     "name": "stderr",
     "output_type": "stream",
     "text": [
      "100%|██████████| 79/79 [00:11<00:00,  7.17it/s]\n"
     ]
    },
    {
     "name": "stdout",
     "output_type": "stream",
     "text": [
      "Train Accuracy: 0.724\n"
     ]
    },
    {
     "name": "stderr",
     "output_type": "stream",
     "text": [
      "  1%|▏         | 1/79 [00:00<00:11,  6.53it/s]"
     ]
    },
    {
     "name": "stdout",
     "output_type": "stream",
     "text": [
      "Test accuracy 0.589\n",
      "Epoch 47/50\n"
     ]
    },
    {
     "name": "stderr",
     "output_type": "stream",
     "text": [
      "100%|██████████| 79/79 [00:12<00:00,  6.50it/s]\n"
     ]
    },
    {
     "name": "stdout",
     "output_type": "stream",
     "text": [
      "Train Accuracy: 0.7306\n"
     ]
    },
    {
     "name": "stderr",
     "output_type": "stream",
     "text": [
      "  1%|▏         | 1/79 [00:00<00:12,  6.45it/s]"
     ]
    },
    {
     "name": "stdout",
     "output_type": "stream",
     "text": [
      "Test accuracy 0.594\n",
      "Epoch 48/50\n"
     ]
    },
    {
     "name": "stderr",
     "output_type": "stream",
     "text": [
      "100%|██████████| 79/79 [00:12<00:00,  6.49it/s]\n"
     ]
    },
    {
     "name": "stdout",
     "output_type": "stream",
     "text": [
      "Train Accuracy: 0.7376\n"
     ]
    },
    {
     "name": "stderr",
     "output_type": "stream",
     "text": [
      "\r",
      "  0%|          | 0/79 [00:00<?, ?it/s]"
     ]
    },
    {
     "name": "stdout",
     "output_type": "stream",
     "text": [
      "Test accuracy 0.606\n",
      "Got new best: 0.606 - saving model.\n",
      "Epoch 49/50\n"
     ]
    },
    {
     "name": "stderr",
     "output_type": "stream",
     "text": [
      "100%|██████████| 79/79 [00:11<00:00,  6.58it/s]\n"
     ]
    },
    {
     "name": "stdout",
     "output_type": "stream",
     "text": [
      "Train Accuracy: 0.7432\n"
     ]
    },
    {
     "name": "stderr",
     "output_type": "stream",
     "text": [
      "\r",
      "  0%|          | 0/79 [00:00<?, ?it/s]"
     ]
    },
    {
     "name": "stdout",
     "output_type": "stream",
     "text": [
      "Test accuracy 0.608\n",
      "Got new best: 0.608 - saving model.\n",
      "Epoch 50/50\n"
     ]
    },
    {
     "name": "stderr",
     "output_type": "stream",
     "text": [
      "100%|██████████| 79/79 [00:11<00:00,  6.73it/s]\n"
     ]
    },
    {
     "name": "stdout",
     "output_type": "stream",
     "text": [
      "Train Accuracy: 0.7475\n",
      "Test accuracy 0.584\n"
     ]
    }
   ],
   "source": [
    "# --------------------------------------------------\n",
    "# optimization\n",
    "sess.run(tf.global_variables_initializer())\n",
    "# Set up the summary writer\n",
    "result_dir = os.path.join(cwd, \"results\")\n",
    "summary_op = tf.summary.merge_all()\n",
    "summary_writer = tf.summary.FileWriter(result_dir, sess.graph)\n",
    "# Create model checkpointer\n",
    "checkpointer = MaxCheckpointer(\"cifar10-best\", sess)\n",
    "\n",
    "# setup as [batchsize, width, height, numberOfChannels] and use np.zeros()\n",
    "batch_xs = np.empty((batchsize, imsize, imsize, nchannels))\n",
    "# setup as [batchsize, the how many classes]\n",
    "batch_ys = np.zeros((batchsize, nclass))\n",
    "nsamples = ntrain * nclass\n",
    "# batch indicies\n",
    "perm = np.arange(nsamples)\n",
    "# try a small iteration size once it works then continue\n",
    "for i in range(nepochs):\n",
    "    print(\"Epoch {}/{}\".format(i + 1, nepochs))\n",
    "    train_ep_acc_sum = 0\n",
    "    # Shuffle the indicies\n",
    "    np.random.shuffle(perm)\n",
    "    for j in tqdm(range(0, nsamples, batchsize)):\n",
    "        batch_xs = Train[perm[j:j + batchsize]]\n",
    "        batch_ys = LTrain[perm[j:j + batchsize]]\n",
    "        # output the training accuracy every 100 iterations\n",
    "        train_accuracy = accuracy.eval(feed_dict={\n",
    "            tf_data: batch_xs, tf_labels: batch_ys, keep_prob: 1.0, conv_keep_prob: 1.0})\n",
    "        train_ep_acc_sum += (train_accuracy * len(batch_xs))\n",
    "        # Collect the summary statistics\n",
    "        summary_str = sess.run(summary_op, feed_dict={\n",
    "                               tf_data: batch_xs, tf_labels: batch_ys, keep_prob: 1.0, conv_keep_prob: 1.0})\n",
    "        summary_writer.add_summary(summary_str, i + j / nsamples)\n",
    "        summary_writer.flush()\n",
    "        # dropout only during training\n",
    "        optimizer.run(feed_dict={\n",
    "            tf_data: batch_xs, tf_labels: batch_ys, keep_prob: 0.5, conv_keep_prob: 0.75})\n",
    "    print(\"Train Accuracy: {}\".format(train_ep_acc_sum / nsamples))\n",
    "    test_acc = accuracy.eval(\n",
    "        feed_dict={tf_data: Test, tf_labels: LTest, keep_prob: 1.0, conv_keep_prob: 1.0})\n",
    "    # Collect the summary statistics on test data\n",
    "    summary_str = sess.run(summary_op, feed_dict={\n",
    "                           tf_data: Test, tf_labels: LTest, keep_prob: 1.0, conv_keep_prob: 1.0})\n",
    "    summary_writer.add_summary(summary_str, i)\n",
    "    summary_writer.flush()\n",
    "    print(\"Test accuracy %g\" % test_acc)\n",
    "    checkpointer(test_acc)"
   ]
  },
  {
   "cell_type": "code",
   "execution_count": 8,
   "metadata": {
    "collapsed": false
   },
   "outputs": [
    {
     "data": {
      "image/png": "[encoded data removed]",
      "text/plain": [
       "<matplotlib.figure.Figure at 0x7fc5ae6b30f0>"
      ]
     },
     "metadata": {},
     "output_type": "display_data"
    },
    {
     "data": {
      "image/png": "[encoded data removed]",
      "text/plain": [
       "<matplotlib.figure.Figure at 0x7fc5787a6c18>"
      ]
     },
     "metadata": {},
     "output_type": "display_data"
    },
    {
     "data": {
      "image/png": "[encoded data removed]",
      "text/plain": [
       "<matplotlib.figure.Figure at 0x7fc56cf9fb38>"
      ]
     },
     "metadata": {},
     "output_type": "display_data"
    },
    {
     "data": {
      "image/png": "[encoded data removed]",
      "text/plain": [
       "<matplotlib.figure.Figure at 0x7fc5580c5f28>"
      ]
     },
     "metadata": {},
     "output_type": "display_data"
    },
    {
     "data": {
      "image/png": "[encoded data removed]",
      "text/plain": [
       "<matplotlib.figure.Figure at 0x7fc55812a518>"
      ]
     },
     "metadata": {},
     "output_type": "display_data"
    },
    {
     "data": {
      "image/png": "[encoded data removed]",
      "text/plain": [
       "<matplotlib.figure.Figure at 0x7fc558072f60>"
      ]
     },
     "metadata": {},
     "output_type": "display_data"
    }
   ],
   "source": [
    "# Select 2 images to visualize through the convnet\n",
    "vis_inps = 2\n",
    "for i in np.random.permutation(ntest)[:2]:\n",
    "    # Show the image\n",
    "    plt.imshow(Test[i,...,0], cmap=\"gray\")\n",
    "    plt.show()\n",
    "    get_filters(h_pool1, Test[i], \"Conv1\")\n",
    "    get_filters(h_pool2, Test[i], \"Conv2\")"
   ]
  },
  {
   "cell_type": "markdown",
   "metadata": {},
   "source": [
    "## Summaries Statistics of the ConvNet\n",
    "\n",
    "### Net Weight and Activation Histograms\n",
    "\n",
    "<img src=\"ScalarStats1.png\">\n",
    "\n",
    "<img src=\"ScalarStats2.png\">\n",
    "\n",
    "<img src=\"ScalarStats3.png\">\n",
    "\n",
    "<img src=\"ScalarStats4.png\">\n",
    "\n",
    "<img src=\"ConvHistograms.png\">"
   ]
  },
  {
   "cell_type": "code",
   "execution_count": 9,
   "metadata": {
    "collapsed": true
   },
   "outputs": [],
   "source": [
    "# Close the session\n",
    "sess.close()"
   ]
  },
  {
   "cell_type": "markdown",
   "metadata": {},
   "source": [
    "## Visualizing and Understanding Convolutional Networks\n",
    "\n",
    "Summary of \"Visualizing and Understanding Convolutional Networks\"\n",
    "\n",
    "The paper discusses a new technique to analyze learned filters in deep convolutional neural networks. They discuss how there has previously been little understanding of what kind of features and invariances are learnied in these deep models and how they could be improved. The novel technique involves the use of their \"Deconvolutional Network (deconvnet)\" made of unpooling, rectification, and transposed filtering repurposed from deep ImageNet models. Using this technique, the authors of the paper are able to produce insightful visualizations of not only lower layers, but also the deeper layers. Using these methods, they created an Imagenet model that generalizes well to other datasets."
   ]
  },
  {
   "cell_type": "markdown",
   "metadata": {},
   "source": [
    "# Build and Train an RNN on MNIST"
   ]
  },
  {
   "cell_type": "code",
   "execution_count": 1,
   "metadata": {
    "collapsed": false
   },
   "outputs": [],
   "source": [
    "# Setup\n",
    "import tensorflow as tf\n",
    "from tensorflow.python.ops import rnn, rnn_cell\n",
    "import numpy as np\n",
    "\n",
    "\n",
    "from tensorflow.examples.tutorials.mnist import input_data\n",
    "from tensorflow.contrib import rnn"
   ]
  },
  {
   "cell_type": "markdown",
   "metadata": {},
   "source": [
    "Playing with the different hyperparameters, I found these to be the best."
   ]
  },
  {
   "cell_type": "code",
   "execution_count": 2,
   "metadata": {
    "collapsed": false
   },
   "outputs": [
    {
     "name": "stdout",
     "output_type": "stream",
     "text": [
      "Extracting MNIST_data/train-images-idx3-ubyte.gz\n",
      "Extracting MNIST_data/train-labels-idx1-ubyte.gz\n",
      "Extracting MNIST_data/t10k-images-idx3-ubyte.gz\n",
      "Extracting MNIST_data/t10k-labels-idx1-ubyte.gz\n"
     ]
    }
   ],
   "source": [
    "# Data loading and initializations\n",
    "mnist = input_data.read_data_sets(\n",
    "    'MNIST_data', one_hot=True)  # call mnist function\n",
    "\n",
    "learningRate = 1e-3\n",
    "trainingIters = 120000\n",
    "batchSize = 128\n",
    "displayStep = 10\n",
    "\n",
    "nInput = 28  # we want the input to take the 28 pixels\n",
    "nSteps = 28  # every 28\n",
    "nHidden = 256  # number of neurons for the RNN\n",
    "nClasses = 10  # this is MNIST so you know\n",
    "\n",
    "x = tf.placeholder('float', [None, nSteps, nInput])\n",
    "y = tf.placeholder('float', [None, nClasses])\n",
    "\n",
    "weights = {\n",
    "    'out': tf.Variable(tf.random_normal([nHidden, nClasses]))\n",
    "}\n",
    "\n",
    "biases = {\n",
    "    'out': tf.Variable(tf.random_normal([nClasses]))\n",
    "}"
   ]
  },
  {
   "cell_type": "code",
   "execution_count": 3,
   "metadata": {
    "collapsed": true
   },
   "outputs": [],
   "source": [
    "# Setup the RNN\n",
    "def RNN(x, weights, biases, use_gru=False):\n",
    "    # configuring so you can get it as needed for the 28 pixels\n",
    "    x = tf.unstack(x, nSteps, 1)\n",
    "\n",
    "    # find which lstm to use in the documentation\n",
    "    lstmCell = rnn.BasicLSTMCell(\n",
    "        nHidden) if not use_gru else rnn.GRUCell(nHidden)\n",
    "\n",
    "    # for the rnn where to get the output and hidden state\n",
    "    outputs, states = tf.nn.static_rnn(lstmCell, x, dtype=tf.float32)\n",
    "\n",
    "    return tf.matmul(outputs[-1], weights['out']) + biases['out']"
   ]
  },
  {
   "cell_type": "code",
   "execution_count": 4,
   "metadata": {
    "collapsed": true
   },
   "outputs": [],
   "source": [
    "# Create the RNN with an LSTM\n",
    "pred = RNN(x, weights, biases, use_gru=False)"
   ]
  },
  {
   "cell_type": "code",
   "execution_count": 6,
   "metadata": {
    "collapsed": true
   },
   "outputs": [],
   "source": [
    "# optimization\n",
    "# create the cost, optimization, evaluation, and accuracy\n",
    "# for the cost softmax_cross_entropy_with_logits seems really good\n",
    "cost = tf.reduce_mean(\n",
    "    tf.nn.softmax_cross_entropy_with_logits(labels=y, logits=pred))\n",
    "optimizer = tf.train.AdamOptimizer(\n",
    "    learning_rate=learningRate).minimize(cost)\n",
    "\n",
    "correctPred = tf.equal(tf.argmax(pred, 1), tf.argmax(y, 1))\n",
    "accuracy = tf.reduce_mean(tf.cast(correctPred, tf.float32))"
   ]
  },
  {
   "cell_type": "code",
   "execution_count": 7,
   "metadata": {
    "collapsed": false
   },
   "outputs": [
    {
     "name": "stdout",
     "output_type": "stream",
     "text": [
      "Iter 1280, Minibatch Loss= 1.421273, Training Accuracy= 0.48438\n",
      "Iter 2560, Minibatch Loss= 1.070979, Training Accuracy= 0.63281\n",
      "Iter 3840, Minibatch Loss= 1.070308, Training Accuracy= 0.58594\n",
      "Iter 5120, Minibatch Loss= 0.858252, Training Accuracy= 0.66406\n",
      "Iter 6400, Minibatch Loss= 0.865014, Training Accuracy= 0.67188\n",
      "Iter 7680, Minibatch Loss= 0.703787, Training Accuracy= 0.77344\n",
      "Iter 8960, Minibatch Loss= 0.437111, Training Accuracy= 0.84375\n",
      "Iter 10240, Minibatch Loss= 0.395952, Training Accuracy= 0.89844\n",
      "Iter 11520, Minibatch Loss= 0.532407, Training Accuracy= 0.83594\n",
      "Iter 12800, Minibatch Loss= 0.261056, Training Accuracy= 0.91406\n",
      "Iter 14080, Minibatch Loss= 0.335284, Training Accuracy= 0.89062\n",
      "Iter 15360, Minibatch Loss= 0.264726, Training Accuracy= 0.92969\n",
      "Iter 16640, Minibatch Loss= 0.283161, Training Accuracy= 0.90625\n",
      "Iter 17920, Minibatch Loss= 0.327863, Training Accuracy= 0.92188\n",
      "Iter 19200, Minibatch Loss= 0.274536, Training Accuracy= 0.89844\n",
      "Iter 20480, Minibatch Loss= 0.348396, Training Accuracy= 0.88281\n",
      "Iter 21760, Minibatch Loss= 0.466643, Training Accuracy= 0.88281\n",
      "Iter 23040, Minibatch Loss= 0.249802, Training Accuracy= 0.89844\n",
      "Iter 24320, Minibatch Loss= 0.266425, Training Accuracy= 0.94531\n",
      "Iter 25600, Minibatch Loss= 0.253865, Training Accuracy= 0.89844\n",
      "Iter 26880, Minibatch Loss= 0.191533, Training Accuracy= 0.95312\n",
      "Iter 28160, Minibatch Loss= 0.241409, Training Accuracy= 0.92969\n",
      "Iter 29440, Minibatch Loss= 0.142060, Training Accuracy= 0.94531\n",
      "Iter 30720, Minibatch Loss= 0.094295, Training Accuracy= 0.97656\n",
      "Iter 32000, Minibatch Loss= 0.247953, Training Accuracy= 0.92969\n",
      "Iter 33280, Minibatch Loss= 0.236137, Training Accuracy= 0.92188\n",
      "Iter 34560, Minibatch Loss= 0.248590, Training Accuracy= 0.93750\n",
      "Iter 35840, Minibatch Loss= 0.169112, Training Accuracy= 0.95312\n",
      "Iter 37120, Minibatch Loss= 0.151737, Training Accuracy= 0.94531\n",
      "Iter 38400, Minibatch Loss= 0.155350, Training Accuracy= 0.96094\n",
      "Iter 39680, Minibatch Loss= 0.097340, Training Accuracy= 0.95312\n",
      "Iter 40960, Minibatch Loss= 0.219762, Training Accuracy= 0.92969\n",
      "Iter 42240, Minibatch Loss= 0.198150, Training Accuracy= 0.95312\n",
      "Iter 43520, Minibatch Loss= 0.216792, Training Accuracy= 0.93750\n",
      "Iter 44800, Minibatch Loss= 0.140743, Training Accuracy= 0.96094\n",
      "Iter 46080, Minibatch Loss= 0.039515, Training Accuracy= 0.99219\n",
      "Iter 47360, Minibatch Loss= 0.088694, Training Accuracy= 0.97656\n",
      "Iter 48640, Minibatch Loss= 0.077961, Training Accuracy= 0.96875\n",
      "Iter 49920, Minibatch Loss= 0.088045, Training Accuracy= 0.96094\n",
      "Iter 51200, Minibatch Loss= 0.125806, Training Accuracy= 0.97656\n",
      "Iter 52480, Minibatch Loss= 0.111075, Training Accuracy= 0.95312\n",
      "Iter 53760, Minibatch Loss= 0.107091, Training Accuracy= 0.96875\n",
      "Iter 55040, Minibatch Loss= 0.101341, Training Accuracy= 0.96094\n",
      "Iter 56320, Minibatch Loss= 0.108886, Training Accuracy= 0.96094\n",
      "Iter 57600, Minibatch Loss= 0.182808, Training Accuracy= 0.92969\n",
      "Iter 58880, Minibatch Loss= 0.092778, Training Accuracy= 0.96875\n",
      "Iter 60160, Minibatch Loss= 0.150304, Training Accuracy= 0.94531\n",
      "Iter 61440, Minibatch Loss= 0.039710, Training Accuracy= 0.99219\n",
      "Iter 62720, Minibatch Loss= 0.048343, Training Accuracy= 0.98438\n",
      "Iter 64000, Minibatch Loss= 0.130100, Training Accuracy= 0.96875\n",
      "Iter 65280, Minibatch Loss= 0.246314, Training Accuracy= 0.93750\n",
      "Iter 66560, Minibatch Loss= 0.195211, Training Accuracy= 0.93750\n",
      "Iter 67840, Minibatch Loss= 0.119385, Training Accuracy= 0.95312\n",
      "Iter 69120, Minibatch Loss= 0.139793, Training Accuracy= 0.97656\n",
      "Iter 70400, Minibatch Loss= 0.029718, Training Accuracy= 1.00000\n",
      "Iter 71680, Minibatch Loss= 0.156074, Training Accuracy= 0.95312\n",
      "Iter 72960, Minibatch Loss= 0.169354, Training Accuracy= 0.96094\n",
      "Iter 74240, Minibatch Loss= 0.044019, Training Accuracy= 0.98438\n",
      "Iter 75520, Minibatch Loss= 0.130244, Training Accuracy= 0.96875\n",
      "Iter 76800, Minibatch Loss= 0.170551, Training Accuracy= 0.96094\n",
      "Iter 78080, Minibatch Loss= 0.082411, Training Accuracy= 0.98438\n",
      "Iter 79360, Minibatch Loss= 0.195313, Training Accuracy= 0.95312\n",
      "Iter 80640, Minibatch Loss= 0.174728, Training Accuracy= 0.94531\n",
      "Iter 81920, Minibatch Loss= 0.051501, Training Accuracy= 0.97656\n",
      "Iter 83200, Minibatch Loss= 0.087402, Training Accuracy= 0.96094\n",
      "Iter 84480, Minibatch Loss= 0.035070, Training Accuracy= 1.00000\n",
      "Iter 85760, Minibatch Loss= 0.098443, Training Accuracy= 0.97656\n",
      "Iter 87040, Minibatch Loss= 0.089023, Training Accuracy= 0.96875\n",
      "Iter 88320, Minibatch Loss= 0.185108, Training Accuracy= 0.93750\n",
      "Iter 89600, Minibatch Loss= 0.119010, Training Accuracy= 0.96875\n",
      "Iter 90880, Minibatch Loss= 0.035858, Training Accuracy= 0.99219\n",
      "Iter 92160, Minibatch Loss= 0.103020, Training Accuracy= 0.97656\n",
      "Iter 93440, Minibatch Loss= 0.077831, Training Accuracy= 0.96875\n",
      "Iter 94720, Minibatch Loss= 0.111190, Training Accuracy= 0.96094\n",
      "Iter 96000, Minibatch Loss= 0.036124, Training Accuracy= 1.00000\n",
      "Iter 97280, Minibatch Loss= 0.108711, Training Accuracy= 0.96875\n",
      "Iter 98560, Minibatch Loss= 0.040618, Training Accuracy= 0.99219\n",
      "Iter 99840, Minibatch Loss= 0.053447, Training Accuracy= 0.97656\n",
      "Iter 101120, Minibatch Loss= 0.096507, Training Accuracy= 0.96094\n",
      "Iter 102400, Minibatch Loss= 0.083981, Training Accuracy= 0.98438\n",
      "Iter 103680, Minibatch Loss= 0.032590, Training Accuracy= 1.00000\n",
      "Iter 104960, Minibatch Loss= 0.113008, Training Accuracy= 0.95312\n",
      "Iter 106240, Minibatch Loss= 0.087833, Training Accuracy= 0.96875\n",
      "Iter 107520, Minibatch Loss= 0.038827, Training Accuracy= 0.98438\n",
      "Iter 108800, Minibatch Loss= 0.089269, Training Accuracy= 0.96875\n",
      "Iter 110080, Minibatch Loss= 0.063980, Training Accuracy= 0.96875\n",
      "Iter 111360, Minibatch Loss= 0.092592, Training Accuracy= 0.97656\n",
      "Iter 112640, Minibatch Loss= 0.074370, Training Accuracy= 0.96875\n",
      "Iter 113920, Minibatch Loss= 0.081405, Training Accuracy= 0.96875\n",
      "Iter 115200, Minibatch Loss= 0.015452, Training Accuracy= 0.99219\n",
      "Iter 116480, Minibatch Loss= 0.019869, Training Accuracy= 1.00000\n",
      "Iter 117760, Minibatch Loss= 0.068326, Training Accuracy= 0.96875\n",
      "Iter 119040, Minibatch Loss= 0.044729, Training Accuracy= 0.97656\n",
      "Optimization finished\n",
      "Testing Accuracy: 0.9678\n"
     ]
    }
   ],
   "source": [
    "init = tf.global_variables_initializer()\n",
    "\n",
    "# Train the rnn\n",
    "with tf.Session() as sess:\n",
    "    sess.run(init)\n",
    "    step = 1\n",
    "\n",
    "    while step * batchSize < trainingIters:\n",
    "        # mnist has a way to get the next batch\n",
    "        batchX, batchY = mnist.train.next_batch(batchSize)\n",
    "        batchX = batchX.reshape((batchSize, nSteps, nInput))\n",
    "\n",
    "        sess.run(optimizer, feed_dict={\n",
    "            x: batchX, y: batchY})\n",
    "\n",
    "        if step % displayStep == 0:\n",
    "            acc = accuracy.eval(feed_dict={\n",
    "                x: batchX, y: batchY})\n",
    "            loss = cost.eval(feed_dict={\n",
    "                x: batchX, y: batchY})\n",
    "            print(\"Iter \" + str(step * batchSize) + \", Minibatch Loss= \" +\n",
    "                  \"{:.6f}\".format(loss) + \", Training Accuracy= \" +\n",
    "                  \"{:.5f}\".format(acc))\n",
    "        step += 1\n",
    "    print('Optimization finished')\n",
    "\n",
    "    testData = mnist.test.images.reshape((-1, nSteps, nInput))\n",
    "    testLabel = mnist.test.labels\n",
    "    print(\"Testing Accuracy:\",\n",
    "          sess.run(accuracy, feed_dict={x: testData, y: testLabel}))"
   ]
  },
  {
   "cell_type": "markdown",
   "metadata": {},
   "source": [
    "Now we try out the GRU"
   ]
  },
  {
   "cell_type": "code",
   "execution_count": 8,
   "metadata": {
    "collapsed": false
   },
   "outputs": [
    {
     "name": "stdout",
     "output_type": "stream",
     "text": [
      "Iter 1280, Minibatch Loss= 1.579730, Training Accuracy= 0.48438\n",
      "Iter 2560, Minibatch Loss= 1.273701, Training Accuracy= 0.60156\n",
      "Iter 3840, Minibatch Loss= 1.000328, Training Accuracy= 0.64062\n",
      "Iter 5120, Minibatch Loss= 0.658584, Training Accuracy= 0.83594\n",
      "Iter 6400, Minibatch Loss= 0.658027, Training Accuracy= 0.80469\n",
      "Iter 7680, Minibatch Loss= 0.622499, Training Accuracy= 0.83594\n",
      "Iter 8960, Minibatch Loss= 0.498883, Training Accuracy= 0.87500\n",
      "Iter 10240, Minibatch Loss= 0.323799, Training Accuracy= 0.87500\n",
      "Iter 11520, Minibatch Loss= 0.331535, Training Accuracy= 0.89844\n",
      "Iter 12800, Minibatch Loss= 0.299827, Training Accuracy= 0.89062\n",
      "Iter 14080, Minibatch Loss= 0.275205, Training Accuracy= 0.92188\n",
      "Iter 15360, Minibatch Loss= 0.331599, Training Accuracy= 0.89844\n",
      "Iter 16640, Minibatch Loss= 0.198080, Training Accuracy= 0.94531\n",
      "Iter 17920, Minibatch Loss= 0.329302, Training Accuracy= 0.87500\n",
      "Iter 19200, Minibatch Loss= 0.321298, Training Accuracy= 0.92969\n",
      "Iter 20480, Minibatch Loss= 0.191891, Training Accuracy= 0.94531\n",
      "Iter 21760, Minibatch Loss= 0.235113, Training Accuracy= 0.92969\n",
      "Iter 23040, Minibatch Loss= 0.161160, Training Accuracy= 0.97656\n",
      "Iter 24320, Minibatch Loss= 0.141247, Training Accuracy= 0.95312\n",
      "Iter 25600, Minibatch Loss= 0.123264, Training Accuracy= 0.95312\n",
      "Iter 26880, Minibatch Loss= 0.220252, Training Accuracy= 0.91406\n",
      "Iter 28160, Minibatch Loss= 0.153727, Training Accuracy= 0.94531\n",
      "Iter 29440, Minibatch Loss= 0.209806, Training Accuracy= 0.92969\n",
      "Iter 30720, Minibatch Loss= 0.255180, Training Accuracy= 0.94531\n",
      "Iter 32000, Minibatch Loss= 0.203145, Training Accuracy= 0.93750\n",
      "Iter 33280, Minibatch Loss= 0.154802, Training Accuracy= 0.95312\n",
      "Iter 34560, Minibatch Loss= 0.106763, Training Accuracy= 0.97656\n",
      "Iter 35840, Minibatch Loss= 0.191033, Training Accuracy= 0.93750\n",
      "Iter 37120, Minibatch Loss= 0.149678, Training Accuracy= 0.94531\n",
      "Iter 38400, Minibatch Loss= 0.106452, Training Accuracy= 0.96094\n",
      "Iter 39680, Minibatch Loss= 0.273072, Training Accuracy= 0.89062\n",
      "Iter 40960, Minibatch Loss= 0.173531, Training Accuracy= 0.95312\n",
      "Iter 42240, Minibatch Loss= 0.157719, Training Accuracy= 0.96094\n",
      "Iter 43520, Minibatch Loss= 0.107397, Training Accuracy= 0.96875\n",
      "Iter 44800, Minibatch Loss= 0.121390, Training Accuracy= 0.95312\n",
      "Iter 46080, Minibatch Loss= 0.102584, Training Accuracy= 0.97656\n",
      "Iter 47360, Minibatch Loss= 0.115318, Training Accuracy= 0.96094\n",
      "Iter 48640, Minibatch Loss= 0.040711, Training Accuracy= 0.99219\n",
      "Iter 49920, Minibatch Loss= 0.098271, Training Accuracy= 0.96875\n",
      "Iter 51200, Minibatch Loss= 0.204369, Training Accuracy= 0.93750\n",
      "Iter 52480, Minibatch Loss= 0.101201, Training Accuracy= 0.97656\n",
      "Iter 53760, Minibatch Loss= 0.047913, Training Accuracy= 0.99219\n",
      "Iter 55040, Minibatch Loss= 0.116748, Training Accuracy= 0.97656\n",
      "Iter 56320, Minibatch Loss= 0.099786, Training Accuracy= 0.94531\n",
      "Iter 57600, Minibatch Loss= 0.124578, Training Accuracy= 0.96094\n",
      "Iter 58880, Minibatch Loss= 0.118091, Training Accuracy= 0.96875\n",
      "Iter 60160, Minibatch Loss= 0.146799, Training Accuracy= 0.96875\n",
      "Iter 61440, Minibatch Loss= 0.092663, Training Accuracy= 0.98438\n",
      "Iter 62720, Minibatch Loss= 0.064034, Training Accuracy= 0.97656\n",
      "Iter 64000, Minibatch Loss= 0.126558, Training Accuracy= 0.96094\n",
      "Iter 65280, Minibatch Loss= 0.038998, Training Accuracy= 0.98438\n",
      "Iter 66560, Minibatch Loss= 0.088487, Training Accuracy= 0.96875\n",
      "Iter 67840, Minibatch Loss= 0.110051, Training Accuracy= 0.97656\n",
      "Iter 69120, Minibatch Loss= 0.091056, Training Accuracy= 0.96094\n",
      "Iter 70400, Minibatch Loss= 0.159900, Training Accuracy= 0.95312\n",
      "Iter 71680, Minibatch Loss= 0.173410, Training Accuracy= 0.95312\n",
      "Iter 72960, Minibatch Loss= 0.067239, Training Accuracy= 0.98438\n",
      "Iter 74240, Minibatch Loss= 0.026690, Training Accuracy= 1.00000\n",
      "Iter 75520, Minibatch Loss= 0.199693, Training Accuracy= 0.96875\n",
      "Iter 76800, Minibatch Loss= 0.058336, Training Accuracy= 0.98438\n",
      "Iter 78080, Minibatch Loss= 0.064182, Training Accuracy= 0.99219\n",
      "Iter 79360, Minibatch Loss= 0.083831, Training Accuracy= 0.95312\n",
      "Iter 80640, Minibatch Loss= 0.093707, Training Accuracy= 0.97656\n",
      "Iter 81920, Minibatch Loss= 0.102317, Training Accuracy= 0.97656\n",
      "Iter 83200, Minibatch Loss= 0.086441, Training Accuracy= 0.96875\n",
      "Iter 84480, Minibatch Loss= 0.041142, Training Accuracy= 0.99219\n",
      "Iter 85760, Minibatch Loss= 0.102092, Training Accuracy= 0.96875\n",
      "Iter 87040, Minibatch Loss= 0.040205, Training Accuracy= 0.99219\n",
      "Iter 88320, Minibatch Loss= 0.099160, Training Accuracy= 0.96094\n",
      "Iter 89600, Minibatch Loss= 0.084148, Training Accuracy= 0.96875\n",
      "Iter 90880, Minibatch Loss= 0.093309, Training Accuracy= 0.97656\n",
      "Iter 92160, Minibatch Loss= 0.037726, Training Accuracy= 0.99219\n",
      "Iter 93440, Minibatch Loss= 0.073154, Training Accuracy= 0.96875\n",
      "Iter 94720, Minibatch Loss= 0.116855, Training Accuracy= 0.97656\n",
      "Iter 96000, Minibatch Loss= 0.116113, Training Accuracy= 0.95312\n",
      "Iter 97280, Minibatch Loss= 0.097497, Training Accuracy= 0.96875\n",
      "Iter 98560, Minibatch Loss= 0.079222, Training Accuracy= 0.97656\n",
      "Iter 99840, Minibatch Loss= 0.081912, Training Accuracy= 0.97656\n",
      "Iter 101120, Minibatch Loss= 0.063999, Training Accuracy= 0.97656\n",
      "Iter 102400, Minibatch Loss= 0.035652, Training Accuracy= 0.99219\n",
      "Iter 103680, Minibatch Loss= 0.105207, Training Accuracy= 0.96875\n",
      "Iter 104960, Minibatch Loss= 0.062620, Training Accuracy= 0.99219\n",
      "Iter 106240, Minibatch Loss= 0.031969, Training Accuracy= 0.99219\n",
      "Iter 107520, Minibatch Loss= 0.058998, Training Accuracy= 0.99219\n",
      "Iter 108800, Minibatch Loss= 0.049191, Training Accuracy= 0.99219\n",
      "Iter 110080, Minibatch Loss= 0.026982, Training Accuracy= 0.99219\n",
      "Iter 111360, Minibatch Loss= 0.046731, Training Accuracy= 0.98438\n",
      "Iter 112640, Minibatch Loss= 0.050161, Training Accuracy= 0.98438\n",
      "Iter 113920, Minibatch Loss= 0.124488, Training Accuracy= 0.97656\n",
      "Iter 115200, Minibatch Loss= 0.094347, Training Accuracy= 0.96875\n",
      "Iter 116480, Minibatch Loss= 0.012249, Training Accuracy= 1.00000\n",
      "Iter 117760, Minibatch Loss= 0.120935, Training Accuracy= 0.96875\n",
      "Iter 119040, Minibatch Loss= 0.018293, Training Accuracy= 0.99219\n",
      "Optimization finished\n",
      "Testing Accuracy: 0.9795\n"
     ]
    }
   ],
   "source": [
    "# Create the RNN with an LSTM\n",
    "pred = RNN(x, weights, biases, use_gru=True)\n",
    "\n",
    "# optimization\n",
    "# create the cost, optimization, evaluation, and accuracy\n",
    "# for the cost softmax_cross_entropy_with_logits seems really good\n",
    "cost = tf.reduce_mean(\n",
    "    tf.nn.softmax_cross_entropy_with_logits(labels=y, logits=pred))\n",
    "optimizer = tf.train.AdamOptimizer(\n",
    "    learning_rate=learningRate).minimize(cost)\n",
    "\n",
    "correctPred = tf.equal(tf.argmax(pred, 1), tf.argmax(y, 1))\n",
    "accuracy = tf.reduce_mean(tf.cast(correctPred, tf.float32))\n",
    "\n",
    "init = tf.global_variables_initializer()\n",
    "\n",
    "# Train the rnn\n",
    "with tf.Session() as sess:\n",
    "    sess.run(init)\n",
    "    step = 1\n",
    "\n",
    "    while step * batchSize < trainingIters:\n",
    "        # mnist has a way to get the next batch\n",
    "        batchX, batchY = mnist.train.next_batch(batchSize)\n",
    "        batchX = batchX.reshape((batchSize, nSteps, nInput))\n",
    "\n",
    "        sess.run(optimizer, feed_dict={\n",
    "            x: batchX, y: batchY})\n",
    "\n",
    "        if step % displayStep == 0:\n",
    "            acc = accuracy.eval(feed_dict={\n",
    "                x: batchX, y: batchY})\n",
    "            loss = cost.eval(feed_dict={\n",
    "                x: batchX, y: batchY})\n",
    "            print(\"Iter \" + str(step * batchSize) + \", Minibatch Loss= \" +\n",
    "                  \"{:.6f}\".format(loss) + \", Training Accuracy= \" +\n",
    "                  \"{:.5f}\".format(acc))\n",
    "        step += 1\n",
    "    print('Optimization finished')\n",
    "\n",
    "    testData = mnist.test.images.reshape((-1, nSteps, nInput))\n",
    "    testLabel = mnist.test.labels\n",
    "    print(\"Testing Accuracy:\",\n",
    "          sess.run(accuracy, feed_dict={x: testData, y: testLabel}))"
   ]
  },
  {
   "cell_type": "markdown",
   "metadata": {},
   "source": [
    "## Compare to DCN Mnist\n",
    "\n",
    "This performs several percent points better than the convolutional network on MNIST. This model definitely seems much less parameter heavy than MNIST. However, MNIST is a very simple dataset, so perhaps a much more complicated dataset would be better suited for convolutional nets"
   ]
  }
 ],
 "metadata": {
  "kernelspec": {
   "display_name": "Python 3",
   "language": "python",
   "name": "python3"
  },
  "language_info": {
   "codemirror_mode": {
    "name": "ipython",
    "version": 3
   },
   "file_extension": ".py",
   "mimetype": "text/x-python",
   "name": "python",
   "nbconvert_exporter": "python",
   "pygments_lexer": "ipython3",
   "version": "3.5.2"
  }
 },
 "nbformat": 4,
 "nbformat_minor": 2
}
